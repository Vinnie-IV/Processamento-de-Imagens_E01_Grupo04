{
  "nbformat": 4,
  "nbformat_minor": 0,
  "metadata": {
    "colab": {
      "provenance": []
    },
    "kernelspec": {
      "name": "python3",
      "display_name": "Python 3"
    },
    "language_info": {
      "name": "python"
    }
  },
  "cells": [
    {
      "cell_type": "code",
      "execution_count": null,
      "metadata": {
        "id": "bFxj3rZkBnIN"
      },
      "outputs": [],
      "source": [
        "import numpy as np\n",
        "import cv2\n",
        "from skimage import io, color, filters\n",
        "import requests\n",
        "from io import BytesIO\n",
        "import os\n",
        "import matplotlib.pyplot as plt"
      ]
    },
    {
      "cell_type": "code",
      "source": [
        "def carregar_imagem():\n",
        "    try:\n",
        "        from google.colab import files\n",
        "        uploaded = files.upload()\n",
        "        # Assuming only one file is uploaded, get the filename and content\n",
        "        filename = list(uploaded.keys())[0]\n",
        "        img_bytes = uploaded[filename]\n",
        "        # Read the image from bytes using OpenCV\n",
        "        img = cv2.imdecode(np.frombuffer(img_bytes, np.uint8), cv2.IMREAD_COLOR)\n",
        "        return img\n",
        "    except Exception as e:\n",
        "        print(f\"Erro ao carregar imagem: {e}\")\n",
        "        return None"
      ],
      "metadata": {
        "id": "Nj0FNhUPBn9l"
      },
      "execution_count": null,
      "outputs": []
    },
    {
      "cell_type": "code",
      "source": [
        "def borda_sobel(img):\n",
        "    sobel_x = filters.sobel_h(img)\n",
        "    sobel_y = filters.sobel_v(img)\n",
        "    borda = np.hypot(sobel_x, sobel_y)\n",
        "    borda = (borda / borda.max()) * 255\n",
        "    return borda.astype(np.uint8)"
      ],
      "metadata": {
        "id": "BfgVHBDwBpIe"
      },
      "execution_count": null,
      "outputs": []
    },
    {
      "cell_type": "code",
      "source": [
        "def borda_roberts(img):\n",
        "    roberts_borda = filters.roberts(img)\n",
        "    roberts_borda = (roberts_borda / roberts_borda.max()) * 255\n",
        "    return roberts_borda.astype(np.uint8)"
      ],
      "metadata": {
        "id": "xBm23ybcBrbl"
      },
      "execution_count": null,
      "outputs": []
    },
    {
      "cell_type": "code",
      "source": [
        "def exibir_metadados_github(img, url):\n",
        "    try:\n",
        "        altura, largura = img.shape[:2]\n",
        "        tipo_arquivo = os.path.splitext(url)[1].lower()\n",
        "        tamanho_bytes = img.nbytes # Approximating size based on numpy array bytes\n",
        "\n",
        "        print(\"===== Metadados da Imagem =====\")\n",
        "        print(f\"Resolução: {largura} x {altura}\")\n",
        "        print(f\"Tamanho aproximado em bytes: {tamanho_bytes}\")\n",
        "        print(f\"Tipo de arquivo (baseado na URL): {tipo_arquivo}\")\n",
        "        print(\"================================\")\n",
        "    except Exception as e:\n",
        "        print(f\"Erro ao exibir metadados: {e}\")"
      ],
      "metadata": {
        "id": "byeKwmPABsvU"
      },
      "execution_count": null,
      "outputs": []
    },
    {
      "cell_type": "code",
      "source": [
        "def carregar_imagem_github(url):\n",
        "    try:\n",
        "        response = requests.get(url)\n",
        "        response.raise_for_status()\n",
        "        img = io.imread(BytesIO(response.content))\n",
        "        if len(img.shape) == 3:\n",
        "            img = color.rgb2gray(img)\n",
        "        return img\n",
        "    except Exception as e:\n",
        "        print(f\"Erro ao carregar imagem do GitHub: {e}\")\n",
        "        return None"
      ],
      "metadata": {
        "id": "Q6nJxexFQxUn"
      },
      "execution_count": null,
      "outputs": []
    }
  ]
}